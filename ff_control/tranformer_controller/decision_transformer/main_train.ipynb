{
 "cells": [
  {
   "cell_type": "code",
   "execution_count": 1,
   "id": "fa396cab-6f0c-4581-a3d5-e42e072a5cba",
   "metadata": {},
   "outputs": [
    {
     "name": "stdout",
     "output_type": "stream",
     "text": [
      "cuda\n"
     ]
    }
   ],
   "source": [
    "import os\n",
    "import sys\n",
    "root_folder = os.path.abspath(os.path.dirname(os.getcwd()))\n",
    "sys.path.append(root_folder)\n",
    "import numpy as np\n",
    "import numpy.linalg as la\n",
    "import matplotlib.pyplot as plt\n",
    "from transformers import DecisionTransformerConfig\n",
    "from decision_transformer.art import AutonomousFreeflyerTransformer\n",
    "import torch\n",
    "import decision_transformer.manage as ART_manager\n",
    "from decision_transformer.manage import device"
   ]
  },
  {
   "cell_type": "markdown",
   "id": "d8e48658-7dec-4936-a4c9-5f09295fad92",
   "metadata": {},
   "source": [
    "# Decision Transformer\n",
    "Controllare nell'importazione del dataset se la permutation ha fatto in modo che ci siano differenze tra istante finale ed iniziale"
   ]
  },
  {
   "cell_type": "code",
   "execution_count": 2,
   "id": "8ccc322a-7576-4f11-9e7c-f14a6171bb1a",
   "metadata": {},
   "outputs": [
    {
     "name": "stdout",
     "output_type": "stream",
     "text": [
      "Loading data from root/dataset/random_target_minimum/torch/...Completed, DATA IS NOT SHUFFLED YET.\n",
      "\n"
     ]
    }
   ],
   "source": [
    "model_name_4_saving = 'checkpoint_ff_ctgrtg'\n",
    "mdp_constr = True\n",
    "datasets, dataloaders = ART_manager.get_train_val_test_data(mdp_constr=mdp_constr, timestep_norm=False)\n",
    "train_loader, eval_loader, test_loader = dataloaders\n",
    "n_state = train_loader.dataset.n_state\n",
    "n_data = train_loader.dataset.n_data\n",
    "n_action = train_loader.dataset.n_action\n",
    "n_time = train_loader.dataset.max_len"
   ]
  },
  {
   "cell_type": "code",
   "execution_count": null,
   "id": "e8b228fe",
   "metadata": {},
   "outputs": [],
   "source": [
    "import matplotlib.pyplot as plt\n",
    "%matplotlib ipympl\n",
    "plt.figure()\n",
    "ax = plt.axes(projection='3d')\n",
    "data_stats = datasets[0].data_stats\n",
    "for i in range(10000):\n",
    "    if datasets[0].data['ctgs'][i,0] == 0 and (-0.3 < (datasets[0].data['states'][i,0,:]*data_stats['states_std'][0,:] + data_stats['states_mean'][0,:])[1] < 0.3) and (0.7 < (datasets[0].data['states'][i,0,:]*data_stats['states_std'][0,:] + data_stats['states_mean'][0,:])[2] < 1.3):\n",
    "        ax.plot((datasets[0].data['states'][i,:,0]*data_stats['states_std'][:,0]) + data_stats['states_mean'][:,0], (datasets[0].data['states'][i,:,1]*data_stats['states_std'][:,1]) + data_stats['states_mean'][:,1], (datasets[0].data['states'][i,:,2]*data_stats['states_std'][:,2]) + data_stats['states_mean'][:,2])\n",
    "        ax.scatter((datasets[0].data['goal'][i,:,0]*data_stats['goal_std'][:,0]) + data_stats['goal_mean'][:,0], (datasets[0].data['goal'][i,:,1]*data_stats['goal_std'][:,1]) + data_stats['goal_mean'][:,1], (datasets[0].data['goal'][i,:,2]*data_stats['goal_std'][:,2]) + data_stats['goal_mean'][:,2], marker = '*', color='r')\n",
    "plt.show()"
   ]
  },
  {
   "cell_type": "code",
   "execution_count": 3,
   "id": "946d1332-21bf-4730-9e72-b7ab358f1ef5",
   "metadata": {},
   "outputs": [
    {
     "name": "stdout",
     "output_type": "stream",
     "text": [
      "GPT size: 11.1M parameters\n"
     ]
    }
   ],
   "source": [
    "config = DecisionTransformerConfig(\n",
    "    state_dim=n_state, \n",
    "    act_dim=n_action,\n",
    "    hidden_size=384,\n",
    "    max_ep_len=n_time,\n",
    "    vocab_size=1,\n",
    "    action_tanh=False,\n",
    "    n_positions=1024,\n",
    "    n_layer=6,\n",
    "    n_head=6,\n",
    "    n_inner=None,\n",
    "    resid_pdrop=0.1,\n",
    "    embd_pdrop=0.1,\n",
    "    attn_pdrop=0.1,\n",
    "    )\n",
    "model = AutonomousFreeflyerTransformer(config)\n",
    "model_size = sum(t.numel() for t in model.parameters())\n",
    "print(f\"GPT size: {model_size/1000**2:.1f}M parameters\")\n",
    "model.to(device);"
   ]
  },
  {
   "cell_type": "code",
   "execution_count": 4,
   "id": "43c8031a-b827-48e9-8cb4-cf4fb5e1b239",
   "metadata": {},
   "outputs": [],
   "source": [
    "from torch.optim import AdamW\n",
    "from accelerate import Accelerator\n",
    "from transformers import get_scheduler\n",
    "optimizer = AdamW(model.parameters(), lr=3e-5)\n",
    "accelerator = Accelerator(mixed_precision='no', gradient_accumulation_steps=8)\n",
    "model, optimizer, train_dataloader, eval_dataloader = accelerator.prepare(\n",
    "    model, optimizer, train_loader, eval_loader\n",
    ")\n",
    "num_train_epochs = 1\n",
    "num_update_steps_per_epoch = len(train_dataloader)\n",
    "num_training_steps = 10000000000\n",
    "\n",
    "lr_scheduler = get_scheduler(\n",
    "    name=\"linear\",\n",
    "    optimizer=optimizer,\n",
    "    num_warmup_steps=10,\n",
    "    num_training_steps=num_training_steps,\n",
    ")\n",
    "\n",
    "# To activate only when starting from a pretrained model\n",
    "# accelerator.load_state(root_folder + '/decision_transformer/saved_files/checkpoints/' + model_name_4_dataset)"
   ]
  },
  {
   "cell_type": "code",
   "execution_count": 5,
   "id": "bedb6f86-20e6-4ba8-ad2b-69a9c0988912",
   "metadata": {},
   "outputs": [],
   "source": [
    "eval_iters = 100\n",
    "@torch.no_grad()\n",
    "def evaluate():\n",
    "    model.eval()\n",
    "    losses = []\n",
    "    losses_state = []\n",
    "    losses_action = []\n",
    "    for step in range(eval_iters):\n",
    "        data_iter = iter(eval_dataloader)\n",
    "        states_i, actions_i, rtgs_i, ctgs_i, goal_i, timesteps_i, attention_mask_i, _, _, _ = next(data_iter)\n",
    "        with torch.no_grad():\n",
    "            state_preds, action_preds = model(\n",
    "                states=states_i,\n",
    "                actions=actions_i,\n",
    "                goal=goal_i,\n",
    "                returns_to_go=rtgs_i,\n",
    "                constraints_to_go=ctgs_i,\n",
    "                timesteps=timesteps_i,\n",
    "                attention_mask=attention_mask_i,\n",
    "                return_dict=False,\n",
    "            )\n",
    "        loss_i = torch.mean((action_preds - actions_i) ** 2)\n",
    "        loss_i_state = torch.mean((state_preds[:,:-1,:] - states_i[:,1:,:]) ** 2)\n",
    "        losses.append(accelerator.gather(loss_i + loss_i_state))\n",
    "        losses_state.append(accelerator.gather(loss_i_state))\n",
    "        losses_action.append(accelerator.gather(loss_i))\n",
    "    loss = torch.mean(torch.tensor(losses))\n",
    "    loss_state = torch.mean(torch.tensor(losses_state))\n",
    "    loss_action = torch.mean(torch.tensor(losses_action))\n",
    "    model.train()\n",
    "    return loss.item(), loss_state.item(), loss_action.item()"
   ]
  },
  {
   "cell_type": "code",
   "execution_count": 6,
   "id": "45b42291",
   "metadata": {},
   "outputs": [
    {
     "name": "stdout",
     "output_type": "stream",
     "text": [
      "{'loss/eval': 2.292534589767456, 'loss/state': 1.1308578252792358, 'loss/action': 1.1616767644882202}\n"
     ]
    }
   ],
   "source": [
    "eval_loss, loss_state, loss_action = evaluate()\n",
    "accelerator.print({\"loss/eval\": eval_loss, \"loss/state\": loss_state, \"loss/action\": loss_action})"
   ]
  },
  {
   "cell_type": "markdown",
   "id": "05373d18",
   "metadata": {},
   "source": [
    "Verificare quali istanti temporali devono essere confrontati per il calcolo delle losses di azione/stato/reward/constraint"
   ]
  },
  {
   "cell_type": "code",
   "execution_count": 7,
   "id": "7e46f092-5eea-4cda-8a9f-5124ad225d45",
   "metadata": {
    "scrolled": true
   },
   "outputs": [
    {
     "name": "stdout",
     "output_type": "stream",
     "text": [
      "{'lr': [0.0], 'samples': 0, 'steps': 0, 'loss/train': 2.1202895641326904}\n",
      "{'loss/eval': 2.189940929412842, 'loss/state': 1.0891958475112915, 'loss/action': 1.1007449626922607}\n",
      "Saving model..\n",
      "{'lr': [2.9999999730000002e-05], 'samples': 400, 'steps': 100, 'loss/train': 1.1621609926223755}\n",
      "{'lr': [2.999999943e-05], 'samples': 800, 'steps': 200, 'loss/train': 1.3902621269226074}\n",
      "{'lr': [2.999999913e-05], 'samples': 1200, 'steps': 300, 'loss/train': 0.5271549224853516}\n",
      "{'lr': [2.999999883e-05], 'samples': 1600, 'steps': 400, 'loss/train': 0.6525835394859314}\n",
      "{'lr': [2.999999853e-05], 'samples': 2000, 'steps': 500, 'loss/train': 0.9023060202598572}\n",
      "{'loss/eval': 0.40752601623535156, 'loss/state': 0.17869174480438232, 'loss/action': 0.22883427143096924}\n",
      "{'lr': [2.9999998229999998e-05], 'samples': 2400, 'steps': 600, 'loss/train': 0.1598205864429474}\n",
      "{'lr': [2.999999793e-05], 'samples': 2800, 'steps': 700, 'loss/train': 0.33647599816322327}\n",
      "{'lr': [2.9999997629999998e-05], 'samples': 3200, 'steps': 800, 'loss/train': 0.45992955565452576}\n",
      "{'lr': [2.999999733e-05], 'samples': 3600, 'steps': 900, 'loss/train': 0.251817911863327}\n",
      "{'lr': [2.999999703e-05], 'samples': 4000, 'steps': 1000, 'loss/train': 0.10288472473621368}\n",
      "{'loss/eval': 0.18650388717651367, 'loss/state': 0.056794729083776474, 'loss/action': 0.1297091692686081}\n",
      "{'lr': [2.9999996729999997e-05], 'samples': 4400, 'steps': 1100, 'loss/train': 0.10313937067985535}\n",
      "{'lr': [2.999999643e-05], 'samples': 4800, 'steps': 1200, 'loss/train': 0.22826649248600006}\n"
     ]
    },
    {
     "ename": "KeyboardInterrupt",
     "evalue": "",
     "output_type": "error",
     "traceback": [
      "\u001b[0;31m---------------------------------------------------------------------------\u001b[0m",
      "\u001b[0;31mKeyboardInterrupt\u001b[0m                         Traceback (most recent call last)",
      "Cell \u001b[0;32mIn[7], line 8\u001b[0m\n\u001b[1;32m      6\u001b[0m completed_steps \u001b[38;5;241m=\u001b[39m \u001b[38;5;241m0\u001b[39m\n\u001b[1;32m      7\u001b[0m \u001b[38;5;28;01mfor\u001b[39;00m epoch \u001b[38;5;129;01min\u001b[39;00m \u001b[38;5;28mrange\u001b[39m(num_train_epochs):\n\u001b[0;32m----> 8\u001b[0m     \u001b[38;5;28;01mfor\u001b[39;00m step, batch \u001b[38;5;129;01min\u001b[39;00m \u001b[38;5;28menumerate\u001b[39m(train_dataloader, start\u001b[38;5;241m=\u001b[39m\u001b[38;5;241m0\u001b[39m):\n\u001b[1;32m      9\u001b[0m         \u001b[38;5;28;01mwith\u001b[39;00m accelerator\u001b[38;5;241m.\u001b[39maccumulate(model):\n\u001b[1;32m     10\u001b[0m             states_i, actions_i, rtgs_i, ctgs_i, goal_i, timesteps_i, attention_mask_i, _, _, _ \u001b[38;5;241m=\u001b[39m batch\n",
      "File \u001b[0;32m~/Transformer/lib/python3.10/site-packages/accelerate/data_loader.py:460\u001b[0m, in \u001b[0;36mDataLoaderShard.__iter__\u001b[0;34m(self)\u001b[0m\n\u001b[1;32m    457\u001b[0m \u001b[38;5;28;01mtry\u001b[39;00m:\n\u001b[1;32m    458\u001b[0m     \u001b[38;5;66;03m# But we still move it to the device so it is done before `StopIteration` is reached\u001b[39;00m\n\u001b[1;32m    459\u001b[0m     \u001b[38;5;28;01mif\u001b[39;00m \u001b[38;5;28mself\u001b[39m\u001b[38;5;241m.\u001b[39mdevice \u001b[38;5;129;01mis\u001b[39;00m \u001b[38;5;129;01mnot\u001b[39;00m \u001b[38;5;28;01mNone\u001b[39;00m:\n\u001b[0;32m--> 460\u001b[0m         current_batch \u001b[38;5;241m=\u001b[39m \u001b[43msend_to_device\u001b[49m\u001b[43m(\u001b[49m\u001b[43mcurrent_batch\u001b[49m\u001b[43m,\u001b[49m\u001b[43m \u001b[49m\u001b[38;5;28;43mself\u001b[39;49m\u001b[38;5;241;43m.\u001b[39;49m\u001b[43mdevice\u001b[49m\u001b[43m)\u001b[49m\n\u001b[1;32m    461\u001b[0m     next_batch \u001b[38;5;241m=\u001b[39m \u001b[38;5;28mnext\u001b[39m(dataloader_iter)\n\u001b[1;32m    462\u001b[0m     \u001b[38;5;28;01mif\u001b[39;00m batch_index \u001b[38;5;241m>\u001b[39m\u001b[38;5;241m=\u001b[39m \u001b[38;5;28mself\u001b[39m\u001b[38;5;241m.\u001b[39mskip_batches:\n",
      "File \u001b[0;32m~/Transformer/lib/python3.10/site-packages/accelerate/utils/operations.py:151\u001b[0m, in \u001b[0;36msend_to_device\u001b[0;34m(tensor, device, non_blocking, skip_keys)\u001b[0m\n\u001b[1;32m    138\u001b[0m \u001b[38;5;250m\u001b[39m\u001b[38;5;124;03m\"\"\"\u001b[39;00m\n\u001b[1;32m    139\u001b[0m \u001b[38;5;124;03mRecursively sends the elements in a nested list/tuple/dictionary of tensors to a given device.\u001b[39;00m\n\u001b[1;32m    140\u001b[0m \n\u001b[0;32m   (...)\u001b[0m\n\u001b[1;32m    148\u001b[0m \u001b[38;5;124;03m    The same data structure as `tensor` with all tensors sent to the proper device.\u001b[39;00m\n\u001b[1;32m    149\u001b[0m \u001b[38;5;124;03m\"\"\"\u001b[39;00m\n\u001b[1;32m    150\u001b[0m \u001b[38;5;28;01mif\u001b[39;00m \u001b[38;5;28misinstance\u001b[39m(tensor, (\u001b[38;5;28mtuple\u001b[39m, \u001b[38;5;28mlist\u001b[39m)):\n\u001b[0;32m--> 151\u001b[0m     \u001b[38;5;28;01mreturn\u001b[39;00m \u001b[43mhonor_type\u001b[49m\u001b[43m(\u001b[49m\n\u001b[1;32m    152\u001b[0m \u001b[43m        \u001b[49m\u001b[43mtensor\u001b[49m\u001b[43m,\u001b[49m\u001b[43m \u001b[49m\u001b[43m(\u001b[49m\u001b[43msend_to_device\u001b[49m\u001b[43m(\u001b[49m\u001b[43mt\u001b[49m\u001b[43m,\u001b[49m\u001b[43m \u001b[49m\u001b[43mdevice\u001b[49m\u001b[43m,\u001b[49m\u001b[43m \u001b[49m\u001b[43mnon_blocking\u001b[49m\u001b[38;5;241;43m=\u001b[39;49m\u001b[43mnon_blocking\u001b[49m\u001b[43m,\u001b[49m\u001b[43m \u001b[49m\u001b[43mskip_keys\u001b[49m\u001b[38;5;241;43m=\u001b[39;49m\u001b[43mskip_keys\u001b[49m\u001b[43m)\u001b[49m\u001b[43m \u001b[49m\u001b[38;5;28;43;01mfor\u001b[39;49;00m\u001b[43m \u001b[49m\u001b[43mt\u001b[49m\u001b[43m \u001b[49m\u001b[38;5;129;43;01min\u001b[39;49;00m\u001b[43m \u001b[49m\u001b[43mtensor\u001b[49m\u001b[43m)\u001b[49m\n\u001b[1;32m    153\u001b[0m \u001b[43m    \u001b[49m\u001b[43m)\u001b[49m\n\u001b[1;32m    154\u001b[0m \u001b[38;5;28;01melif\u001b[39;00m \u001b[38;5;28misinstance\u001b[39m(tensor, Mapping):\n\u001b[1;32m    155\u001b[0m     \u001b[38;5;28;01mif\u001b[39;00m \u001b[38;5;28misinstance\u001b[39m(skip_keys, \u001b[38;5;28mstr\u001b[39m):\n",
      "File \u001b[0;32m~/Transformer/lib/python3.10/site-packages/accelerate/utils/operations.py:83\u001b[0m, in \u001b[0;36mhonor_type\u001b[0;34m(obj, generator)\u001b[0m\n\u001b[1;32m     81\u001b[0m     \u001b[38;5;28;01mreturn\u001b[39;00m \u001b[38;5;28mtype\u001b[39m(obj)(\u001b[38;5;241m*\u001b[39m\u001b[38;5;28mlist\u001b[39m(generator))\n\u001b[1;32m     82\u001b[0m \u001b[38;5;28;01melse\u001b[39;00m:\n\u001b[0;32m---> 83\u001b[0m     \u001b[38;5;28;01mreturn\u001b[39;00m \u001b[38;5;28;43mtype\u001b[39;49m\u001b[43m(\u001b[49m\u001b[43mobj\u001b[49m\u001b[43m)\u001b[49m\u001b[43m(\u001b[49m\u001b[43mgenerator\u001b[49m\u001b[43m)\u001b[49m\n",
      "File \u001b[0;32m~/Transformer/lib/python3.10/site-packages/accelerate/utils/operations.py:152\u001b[0m, in \u001b[0;36m<genexpr>\u001b[0;34m(.0)\u001b[0m\n\u001b[1;32m    138\u001b[0m \u001b[38;5;250m\u001b[39m\u001b[38;5;124;03m\"\"\"\u001b[39;00m\n\u001b[1;32m    139\u001b[0m \u001b[38;5;124;03mRecursively sends the elements in a nested list/tuple/dictionary of tensors to a given device.\u001b[39;00m\n\u001b[1;32m    140\u001b[0m \n\u001b[0;32m   (...)\u001b[0m\n\u001b[1;32m    148\u001b[0m \u001b[38;5;124;03m    The same data structure as `tensor` with all tensors sent to the proper device.\u001b[39;00m\n\u001b[1;32m    149\u001b[0m \u001b[38;5;124;03m\"\"\"\u001b[39;00m\n\u001b[1;32m    150\u001b[0m \u001b[38;5;28;01mif\u001b[39;00m \u001b[38;5;28misinstance\u001b[39m(tensor, (\u001b[38;5;28mtuple\u001b[39m, \u001b[38;5;28mlist\u001b[39m)):\n\u001b[1;32m    151\u001b[0m     \u001b[38;5;28;01mreturn\u001b[39;00m honor_type(\n\u001b[0;32m--> 152\u001b[0m         tensor, (\u001b[43msend_to_device\u001b[49m\u001b[43m(\u001b[49m\u001b[43mt\u001b[49m\u001b[43m,\u001b[49m\u001b[43m \u001b[49m\u001b[43mdevice\u001b[49m\u001b[43m,\u001b[49m\u001b[43m \u001b[49m\u001b[43mnon_blocking\u001b[49m\u001b[38;5;241;43m=\u001b[39;49m\u001b[43mnon_blocking\u001b[49m\u001b[43m,\u001b[49m\u001b[43m \u001b[49m\u001b[43mskip_keys\u001b[49m\u001b[38;5;241;43m=\u001b[39;49m\u001b[43mskip_keys\u001b[49m\u001b[43m)\u001b[49m \u001b[38;5;28;01mfor\u001b[39;00m t \u001b[38;5;129;01min\u001b[39;00m tensor)\n\u001b[1;32m    153\u001b[0m     )\n\u001b[1;32m    154\u001b[0m \u001b[38;5;28;01melif\u001b[39;00m \u001b[38;5;28misinstance\u001b[39m(tensor, Mapping):\n\u001b[1;32m    155\u001b[0m     \u001b[38;5;28;01mif\u001b[39;00m \u001b[38;5;28misinstance\u001b[39m(skip_keys, \u001b[38;5;28mstr\u001b[39m):\n",
      "File \u001b[0;32m~/Transformer/lib/python3.10/site-packages/accelerate/utils/operations.py:167\u001b[0m, in \u001b[0;36msend_to_device\u001b[0;34m(tensor, device, non_blocking, skip_keys)\u001b[0m\n\u001b[1;32m    165\u001b[0m \u001b[38;5;28;01melif\u001b[39;00m \u001b[38;5;28mhasattr\u001b[39m(tensor, \u001b[38;5;124m\"\u001b[39m\u001b[38;5;124mto\u001b[39m\u001b[38;5;124m\"\u001b[39m):\n\u001b[1;32m    166\u001b[0m     \u001b[38;5;28;01mtry\u001b[39;00m:\n\u001b[0;32m--> 167\u001b[0m         \u001b[38;5;28;01mreturn\u001b[39;00m \u001b[43mtensor\u001b[49m\u001b[38;5;241;43m.\u001b[39;49m\u001b[43mto\u001b[49m\u001b[43m(\u001b[49m\u001b[43mdevice\u001b[49m\u001b[43m,\u001b[49m\u001b[43m \u001b[49m\u001b[43mnon_blocking\u001b[49m\u001b[38;5;241;43m=\u001b[39;49m\u001b[43mnon_blocking\u001b[49m\u001b[43m)\u001b[49m\n\u001b[1;32m    168\u001b[0m     \u001b[38;5;28;01mexcept\u001b[39;00m \u001b[38;5;167;01mTypeError\u001b[39;00m:  \u001b[38;5;66;03m# .to() doesn't accept non_blocking as kwarg\u001b[39;00m\n\u001b[1;32m    169\u001b[0m         \u001b[38;5;28;01mreturn\u001b[39;00m tensor\u001b[38;5;241m.\u001b[39mto(device)\n",
      "\u001b[0;31mKeyboardInterrupt\u001b[0m: "
     ]
    }
   ],
   "source": [
    "\n",
    "eval_steps = 500\n",
    "samples_per_step = accelerator.state.num_processes * train_loader.batch_size\n",
    "torch.manual_seed(4)\n",
    "\n",
    "model.train()\n",
    "completed_steps = 0\n",
    "for epoch in range(num_train_epochs):\n",
    "    for step, batch in enumerate(train_dataloader, start=0):\n",
    "        with accelerator.accumulate(model):\n",
    "            states_i, actions_i, rtgs_i, ctgs_i, goal_i, timesteps_i, attention_mask_i, _, _, _ = batch\n",
    "            state_preds, action_preds = model(\n",
    "                states=states_i,\n",
    "                actions=actions_i,\n",
    "                goal=goal_i,\n",
    "                returns_to_go=rtgs_i,\n",
    "                constraints_to_go=ctgs_i,\n",
    "                timesteps=timesteps_i,\n",
    "                attention_mask=attention_mask_i,\n",
    "                return_dict=False,\n",
    "            )\n",
    "            loss_i_action = torch.mean((action_preds - actions_i) ** 2)\n",
    "            loss_i_state = torch.mean((state_preds[:,:-1,:] - states_i[:,1:,:]) ** 2)\n",
    "            loss = loss_i_action + loss_i_state\n",
    "            if step % 100 == 0:\n",
    "                accelerator.print(\n",
    "                    {\n",
    "                        \"lr\": lr_scheduler.get_lr(),\n",
    "                        \"samples\": step * samples_per_step,\n",
    "                        \"steps\": completed_steps,\n",
    "                        \"loss/train\": loss.item(),\n",
    "                    }\n",
    "                )\n",
    "            accelerator.backward(loss)\n",
    "            accelerator.clip_grad_norm_(model.parameters(), 1.0)\n",
    "            optimizer.step()\n",
    "            lr_scheduler.step()\n",
    "            optimizer.zero_grad()\n",
    "            completed_steps += 1\n",
    "            if (step % (eval_steps)) == 0:\n",
    "                eval_loss, loss_state, loss_action = evaluate()\n",
    "                accelerator.print({\"loss/eval\": eval_loss, \"loss/state\": loss_state, \"loss/action\": loss_action})\n",
    "                model.train()\n",
    "                accelerator.wait_for_everyone()\n",
    "            if (step % (eval_steps*10)) == 0:\n",
    "                print('Saving model..')\n",
    "                accelerator.save_state(root_folder+'/decision_transformer/saved_files/checkpoints/'+model_name_4_saving)"
   ]
  },
  {
   "cell_type": "markdown",
   "id": "118ae1d0-7a88-47d6-9a70-02fbe4ccb598",
   "metadata": {},
   "source": [
    "TODO: Need to implement inference function to predict with cost-to-go formulation both with dynamics and open-loop"
   ]
  },
  {
   "cell_type": "code",
   "execution_count": null,
   "id": "200e9b53-5bad-45cb-bee6-738dc0243680",
   "metadata": {},
   "outputs": [],
   "source": [
    "eval_loss, loss_state, loss_action, loss_reward, loss_constraint = evaluate()\n",
    "accelerator.print({\"loss/eval\": eval_loss, \"loss/state\": loss_state, \"loss/action\": loss_action, \"loss/reward\": loss_reward, \"loss/constraint\": loss_constraint})"
   ]
  }
 ],
 "metadata": {
  "kernelspec": {
   "display_name": "Python 3 (ipykernel)",
   "language": "python",
   "name": "python3"
  },
  "language_info": {
   "codemirror_mode": {
    "name": "ipython",
    "version": 3
   },
   "file_extension": ".py",
   "mimetype": "text/x-python",
   "name": "python",
   "nbconvert_exporter": "python",
   "pygments_lexer": "ipython3",
   "version": "3.10.12"
  }
 },
 "nbformat": 4,
 "nbformat_minor": 5
}
